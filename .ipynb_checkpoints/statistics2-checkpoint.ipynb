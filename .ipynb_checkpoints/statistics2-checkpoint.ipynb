{
 "cells": [
  {
   "cell_type": "code",
   "execution_count": 1,
   "metadata": {},
   "outputs": [],
   "source": [
    "import numpy as np\n",
    "import random\n",
    "from scipy.stats import norm"
   ]
  },
  {
   "cell_type": "markdown",
   "metadata": {},
   "source": [
    "## Simulation of confidence intervals \n",
    "Suppose we can "
   ]
  },
  {
   "cell_type": "code",
   "execution_count": 2,
   "metadata": {},
   "outputs": [],
   "source": [
    "np.random.seed(1)\n",
    "n = 100000\n",
    "sample_size = 1\n",
    "normal_mean = 10\n",
    "normal_std = 2\n",
    "samples = np.random.normal(normal_mean, normal_std, [n,sample_size])\n",
    "means = np.mean(samples, axis=1)"
   ]
  },
  {
   "cell_type": "code",
   "execution_count": 3,
   "metadata": {},
   "outputs": [
    {
     "name": "stdout",
     "output_type": "stream",
     "text": [
      "Percentage of times when the mean falls between lower and upper range 0.98986\n"
     ]
    }
   ],
   "source": [
    "\n",
    "confidence_level = 99.0\n",
    "confidence_level_mod = confidence_level + ((100.0 - confidence_level)/2)\n",
    "# z_value = 1.96\n",
    "z_value = norm(0, 1).ppf(confidence_level_mod/100)\n",
    "se_lower = normal_mean - z_value*(normal_std/np.sqrt(sample_size))\n",
    "se_upper = normal_mean + z_value*(normal_std/np.sqrt(sample_size))\n",
    "\n",
    "total_true = np.sum([(means>= se_lower) & (means <= se_upper)])\n",
    "print(\"Percentage of times when the mean falls between lower and upper range {}\".format(total_true/n))"
   ]
  },
  {
   "cell_type": "code",
   "execution_count": 4,
   "metadata": {},
   "outputs": [
    {
     "data": {
      "text/plain": [
       "(4.848341392902199, 15.1516586070978)"
      ]
     },
     "execution_count": 4,
     "metadata": {},
     "output_type": "execute_result"
    }
   ],
   "source": [
    "\n",
    "se_lower, se_upper"
   ]
  },
  {
   "cell_type": "code",
   "execution_count": null,
   "metadata": {},
   "outputs": [],
   "source": []
  },
  {
   "cell_type": "code",
   "execution_count": null,
   "metadata": {},
   "outputs": [],
   "source": []
  },
  {
   "cell_type": "code",
   "execution_count": null,
   "metadata": {},
   "outputs": [],
   "source": []
  },
  {
   "cell_type": "code",
   "execution_count": null,
   "metadata": {},
   "outputs": [],
   "source": []
  },
  {
   "cell_type": "code",
   "execution_count": null,
   "metadata": {},
   "outputs": [],
   "source": []
  }
 ],
 "metadata": {
  "kernelspec": {
   "display_name": "Python 3",
   "language": "python",
   "name": "python3"
  },
  "language_info": {
   "codemirror_mode": {
    "name": "ipython",
    "version": 3
   },
   "file_extension": ".py",
   "mimetype": "text/x-python",
   "name": "python",
   "nbconvert_exporter": "python",
   "pygments_lexer": "ipython3",
   "version": "3.7.6"
  }
 },
 "nbformat": 4,
 "nbformat_minor": 4
}
