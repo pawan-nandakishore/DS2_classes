{
 "cells": [
  {
   "cell_type": "markdown",
   "metadata": {},
   "source": [
    "# Some Fun questions\n",
    "## Question 1"
   ]
  },
  {
   "cell_type": "code",
   "execution_count": 51,
   "metadata": {},
   "outputs": [],
   "source": [
    "event_1 = {\"matt\", \"trey\", \"yez\", \"tom\", \"abby\", \"dash\"}\n",
    "event_2 = {\"abby\", \"cat\", \"selen\", \"trey\", \"van\", \"selez\", \"dash\",\"tariq\"}\n",
    "event_3 = {\"van\", \"cat\", \"selen\", \"abby\", \"alisha\"}"
   ]
  },
  {
   "cell_type": "markdown",
   "metadata": {},
   "source": [
    "* How many people who attended both events 1 and 2? \n",
    "* How many people who attended either event 1 or 2 but not 3\n",
    "* How many people who attended 1 and 2 by not 3? "
   ]
  },
  {
   "cell_type": "markdown",
   "metadata": {},
   "source": [
    "## Question 2 \n",
    "Another fun problem what set represents $ \\{ x | x < 3 \\} $\n",
    "  \n",
    "* set 1 {0, 1, 2}\n",
    "* set 2 {-inf..3}\n",
    "* set 3 {+inf..2}"
   ]
  },
  {
   "cell_type": "markdown",
   "metadata": {},
   "source": [
    "## Question 3 \n",
    "\n",
    "If I combine the set $ \\{ x | x < 3 \\} $ with $ \\{ x | x \\geq -10 \\} $ where x is an integer. What set will I get? \n",
    "\n",
    "* Set 1 {0,1,2,3,4}\n",
    "* Set 2 {-9, -8, -7,-6, -5, -4, -3, -2, -1, 0, 1, 2} \n",
    "* Set 3 {-10, -9, -8, -7,-6, -5, -4, -3, -2, -1, 0, 1, 2}\n",
    "* set 2 {-9, -8, -7,-6, -5, -4, -3, -2, -1, 0, 1, 2, 3}"
   ]
  },
  {
   "cell_type": "code",
   "execution_count": 54,
   "metadata": {},
   "outputs": [
    {
     "name": "stdout",
     "output_type": "stream",
     "text": [
      "{'trey', 'abby', 'dash'}\n",
      "{'yez', 'dash', 'tom', 'matt', 'tariq', 'selez', 'trey'}\n"
     ]
    }
   ],
   "source": [
    "# Question 1 \n",
    "# part 1 \n",
    "print(event_1.intersection( event_2))\n",
    "# part 2 \n",
    "print((event_1 | event_2) - event_3)\n"
   ]
  },
  {
   "cell_type": "code",
   "execution_count": 53,
   "metadata": {},
   "outputs": [
    {
     "data": {
      "text/plain": [
       "{'dash', 'trey'}"
      ]
     },
     "execution_count": 53,
     "metadata": {},
     "output_type": "execute_result"
    }
   ],
   "source": [
    "# part 3 \n",
    "event_1 & event_2 - event_3"
   ]
  },
  {
   "cell_type": "code",
   "execution_count": null,
   "metadata": {},
   "outputs": [],
   "source": []
  }
 ],
 "metadata": {
  "kernelspec": {
   "display_name": "Python 3",
   "language": "python",
   "name": "python3"
  },
  "language_info": {
   "codemirror_mode": {
    "name": "ipython",
    "version": 3
   },
   "file_extension": ".py",
   "mimetype": "text/x-python",
   "name": "python",
   "nbconvert_exporter": "python",
   "pygments_lexer": "ipython3",
   "version": "3.7.6"
  }
 },
 "nbformat": 4,
 "nbformat_minor": 4
}
